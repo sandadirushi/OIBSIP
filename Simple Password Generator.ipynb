{
 "cells": [
  {
   "cell_type": "code",
   "execution_count": 2,
   "id": "b5ff65bf",
   "metadata": {},
   "outputs": [
    {
     "name": "stdout",
     "output_type": "stream",
     "text": [
      "Welcome to the Password Generator!\n",
      "Enter the password length: 15\n",
      "Include letters? (y/n): y\n",
      "Include numbers? (y/n): y\n",
      "Include symbols? (y/n): y\n",
      "\n",
      "Generated Password: t1#a}u2:WD2K(`\\\n"
     ]
    }
   ],
   "source": [
    "import random\n",
    "import string\n",
    "\n",
    "def generate_password(length, use_letters, use_numbers, use_symbols):\n",
    "    characters = \"\"\n",
    "\n",
    "    if use_letters:\n",
    "        characters += string.ascii_letters\n",
    "    if use_numbers:\n",
    "        characters += string.digits\n",
    "    if use_symbols:\n",
    "        characters += string.punctuation\n",
    "\n",
    "    if not characters:\n",
    "        print(\"Error: Select at least one character type.\")\n",
    "        return None\n",
    "\n",
    "    generated_password = ''.join(random.choice(characters) for _ in range(length))\n",
    "    return generated_password\n",
    "\n",
    "def get_user_input():\n",
    "    try:\n",
    "        length = int(input(\"Enter the password length: \"))\n",
    "        use_letters = input(\"Include letters? (y/n): \").lower() == 'y'\n",
    "        use_numbers = input(\"Include numbers? (y/n): \").lower() == 'y'\n",
    "        use_symbols = input(\"Include symbols? (y/n): \").lower() == 'y'\n",
    "\n",
    "        return length, use_letters, use_numbers, use_symbols\n",
    "    except ValueError:\n",
    "        print(\"Invalid input. Please enter a valid number for password length.\")\n",
    "        return None, None, None, None\n",
    "\n",
    "def main():\n",
    "    print(\"Welcome to the Password Generator!\")\n",
    "\n",
    "    length, use_letters, use_numbers, use_symbols = get_user_input()\n",
    "\n",
    "    if length is not None and use_letters is not None and use_numbers is not None and use_symbols is not None:\n",
    "        generated_password = generate_password(length, use_letters, use_numbers, use_symbols)\n",
    "\n",
    "        if generated_password:\n",
    "            print(f\"\\nGenerated Password: {generated_password}\")\n",
    "\n",
    "if __name__ == \"__main__\":\n",
    "    main()\n"
   ]
  },
  {
   "cell_type": "code",
   "execution_count": null,
   "id": "648ad4c2",
   "metadata": {},
   "outputs": [],
   "source": []
  }
 ],
 "metadata": {
  "kernelspec": {
   "display_name": "Python 3 (ipykernel)",
   "language": "python",
   "name": "python3"
  },
  "language_info": {
   "codemirror_mode": {
    "name": "ipython",
    "version": 3
   },
   "file_extension": ".py",
   "mimetype": "text/x-python",
   "name": "python",
   "nbconvert_exporter": "python",
   "pygments_lexer": "ipython3",
   "version": "3.10.9"
  }
 },
 "nbformat": 4,
 "nbformat_minor": 5
}
