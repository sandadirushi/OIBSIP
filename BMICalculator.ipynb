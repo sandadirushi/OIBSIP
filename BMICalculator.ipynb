{
 "cells": [
  {
   "cell_type": "code",
   "execution_count": 2,
   "id": "2d85f23f",
   "metadata": {},
   "outputs": [
    {
     "name": "stdout",
     "output_type": "stream",
     "text": [
      "Welcome to the BMI Calculator!\n",
      "Enter your weight in kilograms: 70\n",
      "Enter your height in meters: 0.68\n",
      "\n",
      "Your BMI is: 151.38\n",
      "Category: Obese\n"
     ]
    }
   ],
   "source": [
    "def calculate_bmi(weight, height):\n",
    "    try:\n",
    "        bmi = weight / (height ** 2)\n",
    "        return bmi\n",
    "    except ZeroDivisionError:\n",
    "        return None\n",
    "\n",
    "def classify_bmi(bmi):\n",
    "    if bmi is None:\n",
    "        return \"Invalid input. Please provide non-zero height.\"\n",
    "    elif bmi < 18.5:\n",
    "        return \"Underweight\"\n",
    "    elif 18.5 <= bmi < 24.9:\n",
    "        return \"Normal weight\"\n",
    "    elif 25 <= bmi < 29.9:\n",
    "        return \"Overweight\"\n",
    "    else:\n",
    "        return \"Obese\"\n",
    "\n",
    "def get_user_input():\n",
    "    try:\n",
    "        weight = float(input(\"Enter your weight in kilograms: \"))\n",
    "        height = float(input(\"Enter your height in meters: \"))\n",
    "        if weight <= 0 or height <= 0:\n",
    "            raise ValueError(\"Weight and height must be positive values.\")\n",
    "        return weight, height\n",
    "    except ValueError as e:\n",
    "        print(f\"Invalid input: {e}\")\n",
    "        return None, None\n",
    "\n",
    "def main():\n",
    "    print(\"Welcome to the BMI Calculator!\")\n",
    "    \n",
    "    weight, height = get_user_input()\n",
    "\n",
    "    if weight is not None and height is not None:\n",
    "        bmi = calculate_bmi(weight, height)\n",
    "        category = classify_bmi(bmi)\n",
    "\n",
    "        print(f\"\\nYour BMI is: {bmi:.2f}\")\n",
    "        print(f\"Category: {category}\")\n",
    "\n",
    "if __name__ == \"__main__\":\n",
    "    main()\n"
   ]
  },
  {
   "cell_type": "code",
   "execution_count": null,
   "id": "db2a7f2b",
   "metadata": {},
   "outputs": [],
   "source": []
  },
  {
   "cell_type": "code",
   "execution_count": null,
   "id": "214473a7",
   "metadata": {},
   "outputs": [],
   "source": []
  }
 ],
 "metadata": {
  "kernelspec": {
   "display_name": "Python 3 (ipykernel)",
   "language": "python",
   "name": "python3"
  },
  "language_info": {
   "codemirror_mode": {
    "name": "ipython",
    "version": 3
   },
   "file_extension": ".py",
   "mimetype": "text/x-python",
   "name": "python",
   "nbconvert_exporter": "python",
   "pygments_lexer": "ipython3",
   "version": "3.10.9"
  }
 },
 "nbformat": 4,
 "nbformat_minor": 5
}
