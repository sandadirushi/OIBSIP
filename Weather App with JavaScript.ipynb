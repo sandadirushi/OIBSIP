{
 "cells": [
  {
   "cell_type": "code",
   "execution_count": 9,
   "id": "ca7c05eb",
   "metadata": {},
   "outputs": [
    {
     "name": "stdout",
     "output_type": "stream",
     "text": [
      "Enter a city or ZIP code: 562106\n",
      "Temperature: 25.42°C\n",
      "Humidity: 64%\n",
      "Conditions: overcast clouds\n"
     ]
    }
   ],
   "source": [
    "import requests\n",
    "\n",
    "\n",
    "api_key = \"d7c9a286ffb25cc4678f51fcdce37f7c\"\n",
    "\n",
    "def get_weather_data(location):\n",
    "    base_url = \"https://api.openweathermap.org/data/2.5/weather\"\n",
    "    \n",
    "   \n",
    "    params = {\n",
    "        'q': location,\n",
    "        'appid': api_key,\n",
    "        'units': 'metric'  \n",
    "    }\n",
    "\n",
    "    response = requests.get(base_url, params=params)\n",
    "\n",
    "    if response.status_code == 200:\n",
    "        weather_data = response.json()\n",
    "        return weather_data\n",
    "    else:\n",
    "        print(\"Error fetching weather data.\")\n",
    "        return None\n",
    "\n",
    "def display_weather(weather_data):\n",
    "    if weather_data:\n",
    "        temperature = weather_data['main']['temp']\n",
    "        humidity = weather_data['main']['humidity']\n",
    "        weather_description = weather_data['weather'][0]['description']\n",
    "\n",
    "        print(f\"Temperature: {temperature}°C\")\n",
    "        print(f\"Humidity: {humidity}%\")\n",
    "        print(f\"Conditions: {weather_description}\")\n",
    "    else:\n",
    "        print(\"No data to display.\")\n",
    "\n",
    "if __name__ == \"__main__\":\n",
    "    location = input(\"Enter a city or ZIP code: \")\n",
    "    weather_data = get_weather_data(location)\n",
    "    display_weather(weather_data)"
   ]
  },
  {
   "cell_type": "code",
   "execution_count": null,
   "id": "7b3d41e3",
   "metadata": {},
   "outputs": [],
   "source": []
  }
 ],
 "metadata": {
  "kernelspec": {
   "display_name": "Python 3 (ipykernel)",
   "language": "python",
   "name": "python3"
  },
  "language_info": {
   "codemirror_mode": {
    "name": "ipython",
    "version": 3
   },
   "file_extension": ".py",
   "mimetype": "text/x-python",
   "name": "python",
   "nbconvert_exporter": "python",
   "pygments_lexer": "ipython3",
   "version": "3.10.9"
  }
 },
 "nbformat": 4,
 "nbformat_minor": 5
}
