{
 "cells": [
  {
   "cell_type": "code",
   "execution_count": null,
   "id": "33feec08",
   "metadata": {},
   "outputs": [
    {
     "name": "stdout",
     "output_type": "stream",
     "text": [
      "Enter 'server' or 'client': server\n",
      "Server listening on port 5555\n"
     ]
    }
   ],
   "source": [
    "import socket\n",
    "import threading\n",
    "\n",
    "def handle_client(client_socket, address):\n",
    "    try:\n",
    "        while True:\n",
    "            data = client_socket.recv(1024)\n",
    "            if not data:\n",
    "                break\n",
    "            print(f\"Received from {address}: {data.decode()}\")\n",
    "            client_socket.send(\"Message received\".encode())\n",
    "    except Exception as e:\n",
    "        print(f\"Error handling client {address}: {e}\")\n",
    "    finally:\n",
    "        client_socket.close()\n",
    "\n",
    "def start_server():\n",
    "    server_socket = socket.socket(socket.AF_INET, socket.SOCK_STREAM)\n",
    "    server_socket.bind(('0.0.0.0', 5555))\n",
    "    server_socket.listen(5)\n",
    "    print(\"Server listening on port 5555\")\n",
    "\n",
    "    while True:\n",
    "        client_socket, address = server_socket.accept()\n",
    "        print(f\"Accepted connection from {address}\")\n",
    "        client_handler = threading.Thread(target=handle_client, args=(client_socket, address))\n",
    "        client_handler.start()\n",
    "\n",
    "def start_client():\n",
    "    client_socket = socket.socket(socket.AF_INET, socket.SOCK_STREAM)\n",
    "    client_socket.connect(('127.0.0.1', 5555))\n",
    "\n",
    "    try:\n",
    "        while True:\n",
    "            message = input(\"Enter your message: \")\n",
    "            client_socket.send(message.encode())\n",
    "            response = client_socket.recv(1024)\n",
    "            print(f\"Server response: {response.decode()}\")\n",
    "    except KeyboardInterrupt:\n",
    "        print(\"Closing client.\")\n",
    "    finally:\n",
    "        client_socket.close()\n",
    "\n",
    "if __name__ == \"__main__\":\n",
    "    role = input(\"Enter 'server' or 'client': \").lower()\n",
    "\n",
    "    if role == 'server':\n",
    "        start_server()\n",
    "    elif role == 'client':\n",
    "        start_client()\n",
    "    else:\n",
    "        print(\"Invalid role. Please enter 'server' or 'client'.\")\n"
   ]
  },
  {
   "cell_type": "code",
   "execution_count": null,
   "id": "689ce1c1",
   "metadata": {},
   "outputs": [],
   "source": []
  }
 ],
 "metadata": {
  "kernelspec": {
   "display_name": "Python 3 (ipykernel)",
   "language": "python",
   "name": "python3"
  },
  "language_info": {
   "codemirror_mode": {
    "name": "ipython",
    "version": 3
   },
   "file_extension": ".py",
   "mimetype": "text/x-python",
   "name": "python",
   "nbconvert_exporter": "python",
   "pygments_lexer": "ipython3",
   "version": "3.10.9"
  }
 },
 "nbformat": 4,
 "nbformat_minor": 5
}
