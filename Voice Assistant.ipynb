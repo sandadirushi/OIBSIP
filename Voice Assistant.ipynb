{
 "cells": [
  {
   "cell_type": "code",
   "execution_count": null,
   "id": "fddb8da0",
   "metadata": {},
   "outputs": [
    {
     "name": "stdout",
     "output_type": "stream",
     "text": [
      "Listening...\n",
      "You said: what's the date\n",
      "Listening...\n",
      "You said: the time\n",
      "Listening...\n",
      "Listening...\n",
      "Listening...\n",
      "You said: what's the year\n",
      "Listening...\n",
      "You said: search\n",
      "Listening...\n",
      "Listening...\n"
     ]
    }
   ],
   "source": [
    "import speech_recognition as sr\n",
    "import pyttsx3\n",
    "import datetime\n",
    "import webbrowser\n",
    "\n",
    "\n",
    "recognizer = sr.Recognizer()\n",
    "\n",
    "\n",
    "text_to_speech = pyttsx3.init()\n",
    "\n",
    "def speak(text):\n",
    "    text_to_speech.say(text)\n",
    "    text_to_speech.runAndWait()\n",
    "\n",
    "def greet():\n",
    "    speak(\"Hello! How can I assist you today?\")\n",
    "\n",
    "def get_command():\n",
    "    with sr.Microphone() as source:\n",
    "        print(\"Listening...\")\n",
    "        audio = recognizer.listen(source)\n",
    "\n",
    "        try:\n",
    "            command = recognizer.recognize_google(audio)\n",
    "            print(f\"You said: {command}\")\n",
    "            return command.lower()\n",
    "        except sr.UnknownValueError:\n",
    "            return None\n",
    "        except sr.RequestError as e:\n",
    "            print(f\"Sorry, I couldn't request results; {e}\")\n",
    "            return None\n",
    "\n",
    "def main():\n",
    "    greet()\n",
    "    while True:\n",
    "        command = get_command()\n",
    "        \n",
    "        if command:\n",
    "            if \"hello\" in command:\n",
    "                speak(\"Hello!\")\n",
    "            elif \"time\" in command:\n",
    "                current_time = datetime.datetime.now().strftime(\"%H:%M\")\n",
    "                speak(f\"The current time is {current_time}.\")\n",
    "            elif \"date\" in command:\n",
    "                current_date = datetime.date.today().strftime(\"%Y-%m-%d\")\n",
    "                speak(f\"Today's date is {current_date}.\")\n",
    "            elif \"search\" in command:\n",
    "                query = command.replace(\"search\", \"\")\n",
    "                web_search(query)\n",
    "            elif \"exit\" in command:\n",
    "                speak(\"Goodbye!\")\n",
    "                break\n",
    "            else:\n",
    "                speak(\"I'm not sure how to help with that. Please try a different command.\")\n",
    "\n",
    "def web_search(query):\n",
    "    search_url = f\"https://www.google.com/search?q={query}\"\n",
    "    webbrowser.open(search_url)\n",
    "\n",
    "if __name__ == \"__main__\":\n",
    "    main()"
   ]
  },
  {
   "cell_type": "code",
   "execution_count": null,
   "id": "b85d3274",
   "metadata": {},
   "outputs": [],
   "source": []
  }
 ],
 "metadata": {
  "kernelspec": {
   "display_name": "Python 3 (ipykernel)",
   "language": "python",
   "name": "python3"
  },
  "language_info": {
   "codemirror_mode": {
    "name": "ipython",
    "version": 3
   },
   "file_extension": ".py",
   "mimetype": "text/x-python",
   "name": "python",
   "nbconvert_exporter": "python",
   "pygments_lexer": "ipython3",
   "version": "3.10.9"
  }
 },
 "nbformat": 4,
 "nbformat_minor": 5
}
